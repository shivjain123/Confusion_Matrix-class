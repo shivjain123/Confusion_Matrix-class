{
  "nbformat": 4,
  "nbformat_minor": 0,
  "metadata": {
    "colab": {
      "name": "Confusion Matrix (class).ipynb",
      "provenance": [],
      "authorship_tag": "ABX9TyP5nAFJn+HPAhRu2eMuuktj",
      "include_colab_link": true
    },
    "kernelspec": {
      "name": "python3",
      "display_name": "Python 3"
    },
    "language_info": {
      "name": "python"
    }
  },
  "cells": [
    {
      "cell_type": "markdown",
      "metadata": {
        "id": "view-in-github",
        "colab_type": "text"
      },
      "source": [
        "<a href=\"https://colab.research.google.com/github/shivjain123/Confusion_Matrix-class/blob/master/Confusion_Matrix_(class).ipynb\" target=\"_parent\"><img src=\"https://colab.research.google.com/assets/colab-badge.svg\" alt=\"Open In Colab\"/></a>"
      ]
    },
    {
      "cell_type": "code",
      "metadata": {
        "id": "NKBhNRyhDaZN"
      },
      "source": [
        "import pandas as p\n",
        "\n",
        "df = p.read_csv(\"heart.csv\")\n",
        "\n",
        "factors = df[[\"age\", \"sex\", \"cp\", \"chol\", \"thalach\"]]\n",
        "heart_attack = df[\"target\"]"
      ],
      "execution_count": 1,
      "outputs": []
    },
    {
      "cell_type": "code",
      "metadata": {
        "id": "92a-QvZtP2A5"
      },
      "source": [
        "from sklearn.model_selection import train_test_split\n",
        "from sklearn.preprocessing import StandardScaler\n",
        "from sklearn.linear_model import LogisticRegression as lr\n",
        "\n",
        "factors_train, factors_test, heart_attack_train, heart_attack_test = train_test_split(factors, heart_attack, test_size = 0.25, random_state = 0)\n",
        "\n",
        "st = StandardScaler()\n",
        "\n",
        "factors_train = st.fit_transform(factors_train)\n",
        "factors_test = st.fit_transform(factors_test)\n",
        "\n",
        "classifier = lr(random_state = 0)\n",
        "classifier.fit(factors_train, heart_attack_train)"
      ],
      "execution_count": null,
      "outputs": []
    },
    {
      "cell_type": "code",
      "metadata": {
        "id": "kOt-HQmnQOar"
      },
      "source": [
        "from sklearn.metrics import accuracy_score\n",
        "prediction_results = classifier.predict(factors_test)\n",
        "\n",
        "print(f\"The Accuracy Score is {accuracy_score(heart_attack_test, prediction_results)}\")"
      ],
      "execution_count": null,
      "outputs": []
    },
    {
      "cell_type": "code",
      "metadata": {
        "id": "b4cevRE8Qh7I"
      },
      "source": [
        "predicted_values = list()\n",
        "actual_values = list()\n",
        "\n",
        "for p in prediction_results:\n",
        "  if p == 1:\n",
        "    predicted_values.append(\"Yes\")\n",
        "  else:\n",
        "    predicted_values.append(\"No\")\n",
        "\n",
        "for i in (heart_attack_test.ravel()):\n",
        "  if i == 1:\n",
        "    actual_values.append(\"Yes\")\n",
        "  else:\n",
        "    actual_values.append(\"No\")"
      ],
      "execution_count": 8,
      "outputs": []
    },
    {
      "cell_type": "code",
      "metadata": {
        "colab": {
          "base_uri": "https://localhost:8080/",
          "height": 312
        },
        "id": "0bogbyh0Sb_6",
        "outputId": "d3460318-dd65-4273-cd1f-84616954c240"
      },
      "source": [
        "from sklearn.metrics import confusion_matrix as cfm\n",
        "import matplotlib.pyplot as plt\n",
        "import seaborn as sb\n",
        "\n",
        "labels = [\"Yes\", \"No\"]\n",
        "\n",
        "cm = cfm(actual_values, predicted_values, labels)\n",
        "\n",
        "ax = plt.subplot()\n",
        "sb.heatmap(cm, annot = True, ax = ax)\n",
        "\n",
        "ax.set_xlabel('Predicted')\n",
        "ax.set_ylabel('Actual')\n",
        "ax.set_title('Confusion Matrix')\n",
        "ax.xaxis.set_ticklabels(labels)\n",
        "ax.yaxis.set_ticklabels(labels)"
      ],
      "execution_count": 12,
      "outputs": [
        {
          "output_type": "execute_result",
          "data": {
            "text/plain": [
              "[Text(0, 0.5, 'Yes'), Text(0, 1.5, 'No')]"
            ]
          },
          "metadata": {
            "tags": []
          },
          "execution_count": 12
        },
        {
          "output_type": "display_data",
          "data": {
            "image/png": "[encoded data removed]",
            "text/plain": [
              "<Figure size 432x288 with 2 Axes>"
            ]
          },
          "metadata": {
            "tags": [],
            "needs_background": "light"
          }
        }
      ]
    },
    {
      "cell_type": "code",
      "metadata": {
        "id": "JApQNf0uUMUQ"
      },
      "source": [
        "accuracy_score = (33+23)/(33+10+10+23)\n",
        "\n",
        "print(f\"The Accuracy score is {accuracy_score}\")"
      ],
      "execution_count": null,
      "outputs": []
    }
  ]
}